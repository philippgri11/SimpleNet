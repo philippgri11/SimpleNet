{
 "cells": [
  {
   "cell_type": "code",
   "outputs": [],
   "source": [
    "from skimage.filters import threshold_otsu\n",
    "from scipy.ndimage import binary_fill_holes\n",
    "from skimage import io, color, measure, morphology\n",
    "import numpy as np\n",
    "import os\n",
    "from typing import List"
   ],
   "metadata": {
    "collapsed": false,
    "ExecuteTime": {
     "end_time": "2024-01-26T12:02:01.499577Z",
     "start_time": "2024-01-26T12:02:01.490586Z"
    }
   },
   "id": "3cb08d389ac52a60",
   "execution_count": 36
  },
  {
   "cell_type": "code",
   "outputs": [],
   "source": [
    "def get_padding(image, size) -> List[int]:\n",
    "    imsize = image.shape\n",
    "    h_padding = (size[0] - imsize[0]) / 2\n",
    "    v_padding = (size[1] - imsize[1]) / 2\n",
    "    l_pad = h_padding if h_padding % 1 == 0 else h_padding + 0.5\n",
    "    t_pad = v_padding if v_padding % 1 == 0 else v_padding + 0.5\n",
    "    r_pad = h_padding if h_padding % 1 == 0 else h_padding - 0.5\n",
    "    b_pad = v_padding if v_padding % 1 == 0 else v_padding - 0.5\n",
    "\n",
    "    padding = ((int(l_pad), int(r_pad)), (int(t_pad), int(b_pad)))\n",
    "\n",
    "    return padding"
   ],
   "metadata": {
    "collapsed": false,
    "ExecuteTime": {
     "end_time": "2024-01-26T12:02:01.502872Z",
     "start_time": "2024-01-26T12:02:01.496476Z"
    }
   },
   "id": "8c9ce2cd8ef97351",
   "execution_count": 37
  },
  {
   "cell_type": "code",
   "outputs": [],
   "source": [
    "def process_and_crop_image(image_path, output_folder, margin=10, max_black=10, pad_image_to_size=(256, 256)):\n",
    "    try:\n",
    "        image = io.imread(image_path)\n",
    "\n",
    "        if len(image.shape) > 2:\n",
    "            image = color.rgb2gray(image)\n",
    "\n",
    "        thresh = threshold_otsu(image)\n",
    "        binary = image > thresh\n",
    "        cleaned = morphology.remove_small_objects(binary, min_size=150)\n",
    "\n",
    "        filled_image = binary_fill_holes(cleaned)\n",
    "\n",
    "        label_img = measure.label(filled_image)\n",
    "        regions = measure.regionprops(label_img)\n",
    "\n",
    "        if not regions:\n",
    "            return None\n",
    "\n",
    "        region_max = max(regions, key=lambda r: r.area)\n",
    "\n",
    "        minr, minc, maxr, maxc = region_max.bbox\n",
    "        width, height = image.shape\n",
    "        minr = max(0, minr - margin)\n",
    "        minc = max(0, minc - margin)\n",
    "        maxr = min(width, maxr)\n",
    "        maxc = min(height, maxc)\n",
    "\n",
    "        cropped_image = image[minr:maxr, minc:maxc]\n",
    "        cropped_image = np.where(cropped_image < max_black, 0, cropped_image)\n",
    "        cropped_image = np.pad(cropped_image, get_padding(cropped_image, pad_image_to_size), 'constant')\n",
    "        filename = os.path.basename(image_path)\n",
    "        cropped_image_path = os.path.join(output_folder, f\"{filename}\")\n",
    "        io.imsave(cropped_image_path, cropped_image.astype(np.uint8))\n",
    "        return cropped_image_path\n",
    "    except Exception as e:\n",
    "        # raise e\n",
    "        print(f\"Error processing {image_path}: {e}\")\n",
    "        return None"
   ],
   "metadata": {
    "collapsed": true,
    "ExecuteTime": {
     "end_time": "2024-01-26T12:02:01.513511Z",
     "start_time": "2024-01-26T12:02:01.503310Z"
    }
   },
   "id": "initial_id",
   "execution_count": 38
  },
  {
   "cell_type": "code",
   "outputs": [],
   "source": [
    "output_folder = '../data/cropped/'\n",
    "input_folder = '../data/rsna_breast_cancer'\n",
    "\n",
    "processed_images_paths = []\n",
    "os.makedirs(output_folder, exist_ok=True)\n",
    "im_cnt = 0\n",
    "for filename in os.listdir(input_folder):\n",
    "    if filename.lower().endswith(('.png', '.jpg', '.jpeg')):\n",
    "        im_cnt += 1\n",
    "        image_path = os.path.join(input_folder, filename)\n",
    "        processed_image_path = process_and_crop_image(image_path, output_folder)"
   ],
   "metadata": {
    "collapsed": false,
    "ExecuteTime": {
     "end_time": "2024-01-26T12:02:02.380886Z",
     "start_time": "2024-01-26T12:02:01.507616Z"
    }
   },
   "id": "85d664d9b33b4523",
   "execution_count": 39
  }
 ],
 "metadata": {
  "kernelspec": {
   "display_name": "Python 3",
   "language": "python",
   "name": "python3"
  },
  "language_info": {
   "codemirror_mode": {
    "name": "ipython",
    "version": 2
   },
   "file_extension": ".py",
   "mimetype": "text/x-python",
   "name": "python",
   "nbconvert_exporter": "python",
   "pygments_lexer": "ipython2",
   "version": "2.7.6"
  }
 },
 "nbformat": 4,
 "nbformat_minor": 5
}
