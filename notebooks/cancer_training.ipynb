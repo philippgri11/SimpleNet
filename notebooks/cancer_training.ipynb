{
 "cells": [
  {
   "cell_type": "code",
   "execution_count": 1,
   "id": "initial_id",
   "metadata": {
    "collapsed": true,
    "pycharm": {
     "name": "#%%\n"
    },
    "ExecuteTime": {
     "end_time": "2023-11-19T06:58:45.507315500Z",
     "start_time": "2023-11-19T06:58:21.396323900Z"
    }
   },
   "outputs": [
    {
     "name": "stderr",
     "output_type": "stream",
     "text": [
      "C:\\Users\\Max Ksoll\\Documents\\Git\\SimpleNet\\venv\\lib\\site-packages\\torchvision\\transforms\\functional_pil.py:5: UserWarning: The torchvision.transforms.functional_pil module is deprecated in 0.15 and will be **removed in 0.17**. Please don't rely on it. You probably just need to use APIs in torchvision.transforms.functional or in torchvision.transforms.v2.functional.\n",
      "  warnings.warn(\n"
     ]
    }
   ],
   "source": [
    "%load_ext autoreload\n",
    "%autoreload 2\n",
    "\n",
    "import torch\n",
    "import numpy as np\n",
    "import matplotlib.pyplot as plt\n",
    "from datasets.rsna_breast_cancer import BreastCancerDataset, DatasetSplit\n",
    "import backbones\n",
    "from simplenet import SimpleNet\n",
    "import utils\n",
    "from torch.utils.data import DataLoader\n",
    "import os"
   ]
  },
  {
   "cell_type": "code",
   "execution_count": 2,
   "outputs": [],
   "source": [
    "img_dir = \"data/rsna_breast_cancer/rsna_breast_cancer\"\n",
    "csv_file = \"data/rsna_breast_cancer/train.csv\"\n",
    "\n",
    "ds = BreastCancerDataset(\n",
    "    img_dir=img_dir,\n",
    "    meta_data_csv_path=csv_file,\n",
    "    train_val_test_split=(0.9, 0.1, 0)\n",
    ")\n",
    "\n",
    "val_ds = BreastCancerDataset(\n",
    "    img_dir=img_dir,\n",
    "    meta_data_csv_path=csv_file,\n",
    "    split=DatasetSplit.VAL,\n",
    "    train_val_test_split=(0.9, 0.1, 0)\n",
    ")\n",
    "train_loader = DataLoader(ds, batch_size=40, shuffle=True, pin_memory=True)\n",
    "val_loader = DataLoader(val_ds, batch_size=40, shuffle=True)"
   ],
   "metadata": {
    "collapsed": false,
    "pycharm": {
     "name": "#%%\n"
    },
    "ExecuteTime": {
     "end_time": "2023-11-19T06:58:45.856399500Z",
     "start_time": "2023-11-19T06:58:45.510316Z"
    }
   },
   "id": "fa3d6f9a2c82d3a6"
  },
  {
   "cell_type": "code",
   "execution_count": 3,
   "outputs": [],
   "source": [
    "backbone = backbones.load('efficientnet_b1')\n",
    "\n",
    "device = 'cuda'\n",
    "\n",
    "net = SimpleNet(device)\n",
    "net.load(\n",
    "        backbone=backbone,\n",
    "        layers_to_extract_from=['conv_head'],\n",
    "        device=device,\n",
    "        input_shape=(3,224,224),\n",
    "        pretrain_embed_dimension=64,\n",
    "        target_embed_dimension=64,      # Projection dimensionality\n",
    "        patchsize=3,                    # Größe von Patches, in die die Features geteilt werden\n",
    "        embedding_size=None,            # unused Parameter\n",
    "        meta_epochs=20,                 # Overall Epochs\n",
    "        aed_meta_epochs=0,              # used for cos_lr scheduler, but needs to be an int allways\n",
    "        gan_epochs=2,                   # Discriminator Training Epochs per Epoch\n",
    "        noise_std=0.05,                 # Stärke des Noise für die Fake Bilder\n",
    "        dsc_layers=2,\n",
    "        dsc_hidden=32,\n",
    "        dsc_margin=0.5,\n",
    "        dsc_lr=0.0001,\n",
    "        auto_noise=0,                   # scheint ein sinnloser Parameter zu sein\n",
    "        train_backbone=True,\n",
    "        cos_lr=False,\n",
    "        pre_proj=0,                     # Number of Layers for Projection\n",
    "        proj_layer_type=0,              # if > 1 then relu is added to all but the last layer of Projection\n",
    "        mix_noise=1,                    # ich hab keine Ahnung\n",
    "    )\n",
    "models_dir = \"models\"\n",
    "dataset_name = \"rsna_breast_cancer\"\n",
    "net.set_model_dir(models_dir, dataset_name)"
   ],
   "metadata": {
    "collapsed": false,
    "pycharm": {
     "name": "#%%\n"
    },
    "ExecuteTime": {
     "end_time": "2023-11-19T06:58:47.817083300Z",
     "start_time": "2023-11-19T06:58:45.857402300Z"
    }
   },
   "id": "762f001e8c1067d"
  },
  {
   "cell_type": "code",
   "execution_count": 4,
   "outputs": [
    {
     "name": "stderr",
     "output_type": "stream",
     "text": [
      "epoch:1 loss:1.0 lr:0.0001 p_true:0.0 p_fake:0.0: 100%|██████████| 2/2 [19:34<00:00, 587.11s/it]        \n",
      "                                                               \r"
     ]
    },
    {
     "name": "stdout",
     "output_type": "stream",
     "text": [
      "----- 0 I-AUROC:0.4974(MAX:0.4974)  P-AUROC-1(MAX:-1) -----  PRO-AUROC-1(MAX:-1) -----\n"
     ]
    },
    {
     "name": "stderr",
     "output_type": "stream",
     "text": [
      "epoch:1 loss:1.0 lr:0.0001 p_true:0.0 p_fake:0.0: 100%|██████████| 2/2 [10:26<00:00, 313.45s/it]\n",
      "                                                               \r"
     ]
    },
    {
     "name": "stdout",
     "output_type": "stream",
     "text": [
      "----- 1 I-AUROC:0.5055(MAX:0.5055)  P-AUROC-1(MAX:-1) -----  PRO-AUROC-1(MAX:-1) -----\n"
     ]
    },
    {
     "name": "stderr",
     "output_type": "stream",
     "text": [
      "epoch:1 loss:1.0 lr:0.0001 p_true:0.0 p_fake:0.0: 100%|██████████| 2/2 [10:28<00:00, 314.20s/it]\n",
      "                                                               \r"
     ]
    },
    {
     "name": "stdout",
     "output_type": "stream",
     "text": [
      "----- 2 I-AUROC:0.4721(MAX:0.5055)  P-AUROC-1(MAX:-1) -----  PRO-AUROC-1(MAX:-1) -----\n"
     ]
    },
    {
     "name": "stderr",
     "output_type": "stream",
     "text": [
      "epoch:1 loss:1.0 lr:0.0001 p_true:0.0 p_fake:0.0: 100%|██████████| 2/2 [10:28<00:00, 314.47s/it]\n",
      "                                                               \r"
     ]
    },
    {
     "name": "stdout",
     "output_type": "stream",
     "text": [
      "----- 3 I-AUROC:0.4588(MAX:0.5055)  P-AUROC-1(MAX:-1) -----  PRO-AUROC-1(MAX:-1) -----\n"
     ]
    },
    {
     "name": "stderr",
     "output_type": "stream",
     "text": [
      "epoch:1 loss:1.0 lr:0.0001 p_true:0.0 p_fake:0.0: 100%|██████████| 2/2 [10:25<00:00, 312.93s/it]\n",
      "                                                               \r"
     ]
    },
    {
     "name": "stdout",
     "output_type": "stream",
     "text": [
      "----- 4 I-AUROC:0.4716(MAX:0.5055)  P-AUROC-1(MAX:-1) -----  PRO-AUROC-1(MAX:-1) -----\n"
     ]
    },
    {
     "name": "stderr",
     "output_type": "stream",
     "text": [
      "epoch:1 loss:1.0 lr:0.0001 p_true:0.0 p_fake:0.0: 100%|██████████| 2/2 [10:27<00:00, 313.95s/it]\n",
      "                                                               \r"
     ]
    },
    {
     "name": "stdout",
     "output_type": "stream",
     "text": [
      "----- 5 I-AUROC:0.4864(MAX:0.5055)  P-AUROC-1(MAX:-1) -----  PRO-AUROC-1(MAX:-1) -----\n"
     ]
    },
    {
     "name": "stderr",
     "output_type": "stream",
     "text": [
      "epoch:1 loss:1.0 lr:0.0001 p_true:0.0 p_fake:0.0: 100%|██████████| 2/2 [10:25<00:00, 312.67s/it]\n",
      "                                                               \r"
     ]
    },
    {
     "name": "stdout",
     "output_type": "stream",
     "text": [
      "----- 6 I-AUROC:0.4957(MAX:0.5055)  P-AUROC-1(MAX:-1) -----  PRO-AUROC-1(MAX:-1) -----\n"
     ]
    },
    {
     "name": "stderr",
     "output_type": "stream",
     "text": [
      "epoch:1 loss:1.0 lr:0.0001 p_true:0.0 p_fake:0.0: 100%|██████████| 2/2 [10:24<00:00, 312.32s/it]\n",
      "                                                               \r"
     ]
    },
    {
     "name": "stdout",
     "output_type": "stream",
     "text": [
      "----- 7 I-AUROC:0.4925(MAX:0.5055)  P-AUROC-1(MAX:-1) -----  PRO-AUROC-1(MAX:-1) -----\n"
     ]
    },
    {
     "name": "stderr",
     "output_type": "stream",
     "text": [
      "epoch:1 loss:1.0 lr:0.0001 p_true:0.0 p_fake:0.0: 100%|██████████| 2/2 [10:26<00:00, 313.27s/it]\n",
      "                                                               \r"
     ]
    },
    {
     "name": "stdout",
     "output_type": "stream",
     "text": [
      "----- 8 I-AUROC:0.4957(MAX:0.5055)  P-AUROC-1(MAX:-1) -----  PRO-AUROC-1(MAX:-1) -----\n"
     ]
    },
    {
     "name": "stderr",
     "output_type": "stream",
     "text": [
      "epoch:1 loss:1.0 lr:0.0001 p_true:0.0 p_fake:0.0: 100%|██████████| 2/2 [10:24<00:00, 312.34s/it]\n",
      "                                                               \r"
     ]
    },
    {
     "name": "stdout",
     "output_type": "stream",
     "text": [
      "----- 9 I-AUROC:0.4895(MAX:0.5055)  P-AUROC-1(MAX:-1) -----  PRO-AUROC-1(MAX:-1) -----\n"
     ]
    },
    {
     "name": "stderr",
     "output_type": "stream",
     "text": [
      "epoch:1 loss:1.0 lr:0.0001 p_true:0.0 p_fake:0.0: 100%|██████████| 2/2 [10:27<00:00, 313.67s/it]\n",
      "                                                               \r"
     ]
    },
    {
     "name": "stdout",
     "output_type": "stream",
     "text": [
      "----- 10 I-AUROC:0.5197(MAX:0.5197)  P-AUROC-1(MAX:-1) -----  PRO-AUROC-1(MAX:-1) -----\n"
     ]
    },
    {
     "name": "stderr",
     "output_type": "stream",
     "text": [
      "epoch:1 loss:1.0 lr:0.0001 p_true:0.0 p_fake:0.0: 100%|██████████| 2/2 [10:25<00:00, 312.83s/it]\n",
      "                                                               \r"
     ]
    },
    {
     "name": "stdout",
     "output_type": "stream",
     "text": [
      "----- 11 I-AUROC:0.4889(MAX:0.5197)  P-AUROC-1(MAX:-1) -----  PRO-AUROC-1(MAX:-1) -----\n"
     ]
    },
    {
     "name": "stderr",
     "output_type": "stream",
     "text": [
      "epoch:1 loss:1.0 lr:0.0001 p_true:0.0 p_fake:0.0: 100%|██████████| 2/2 [10:24<00:00, 312.28s/it]\n",
      "                                                               \r"
     ]
    },
    {
     "name": "stdout",
     "output_type": "stream",
     "text": [
      "----- 12 I-AUROC:0.5398(MAX:0.5398)  P-AUROC-1(MAX:-1) -----  PRO-AUROC-1(MAX:-1) -----\n"
     ]
    },
    {
     "name": "stderr",
     "output_type": "stream",
     "text": [
      "epoch:1 loss:1.0 lr:0.0001 p_true:0.0 p_fake:0.0: 100%|██████████| 2/2 [10:26<00:00, 313.00s/it]\n",
      "                                                               \r"
     ]
    },
    {
     "name": "stdout",
     "output_type": "stream",
     "text": [
      "----- 13 I-AUROC:0.497(MAX:0.5398)  P-AUROC-1(MAX:-1) -----  PRO-AUROC-1(MAX:-1) -----\n"
     ]
    },
    {
     "name": "stderr",
     "output_type": "stream",
     "text": [
      "epoch:1 loss:1.0 lr:0.0001 p_true:0.0 p_fake:0.0: 100%|██████████| 2/2 [10:26<00:00, 313.28s/it]\n",
      "                                                               \r"
     ]
    },
    {
     "name": "stdout",
     "output_type": "stream",
     "text": [
      "----- 14 I-AUROC:0.5006(MAX:0.5398)  P-AUROC-1(MAX:-1) -----  PRO-AUROC-1(MAX:-1) -----\n"
     ]
    },
    {
     "name": "stderr",
     "output_type": "stream",
     "text": [
      "epoch:1 loss:1.0 lr:0.0001 p_true:0.0 p_fake:0.0: 100%|██████████| 2/2 [10:25<00:00, 312.91s/it]\n",
      "                                                               \r"
     ]
    },
    {
     "name": "stdout",
     "output_type": "stream",
     "text": [
      "----- 15 I-AUROC:0.4918(MAX:0.5398)  P-AUROC-1(MAX:-1) -----  PRO-AUROC-1(MAX:-1) -----\n"
     ]
    },
    {
     "name": "stderr",
     "output_type": "stream",
     "text": [
      "epoch:1 loss:1.0 lr:0.0001 p_true:0.0 p_fake:0.0: 100%|██████████| 2/2 [10:25<00:00, 312.78s/it]\n",
      "                                                               \r"
     ]
    },
    {
     "name": "stdout",
     "output_type": "stream",
     "text": [
      "----- 16 I-AUROC:0.5011(MAX:0.5398)  P-AUROC-1(MAX:-1) -----  PRO-AUROC-1(MAX:-1) -----\n"
     ]
    },
    {
     "name": "stderr",
     "output_type": "stream",
     "text": [
      "epoch:1 loss:1.0 lr:0.0001 p_true:0.0 p_fake:0.0: 100%|██████████| 2/2 [10:25<00:00, 312.95s/it]\n",
      "                                                               \r"
     ]
    },
    {
     "name": "stdout",
     "output_type": "stream",
     "text": [
      "----- 17 I-AUROC:0.5078(MAX:0.5398)  P-AUROC-1(MAX:-1) -----  PRO-AUROC-1(MAX:-1) -----\n"
     ]
    },
    {
     "name": "stderr",
     "output_type": "stream",
     "text": [
      "epoch:1 loss:1.0 lr:0.0001 p_true:0.0 p_fake:0.0: 100%|██████████| 2/2 [09:55<00:00, 297.74s/it]\n",
      "                                                               \r"
     ]
    },
    {
     "name": "stdout",
     "output_type": "stream",
     "text": [
      "----- 18 I-AUROC:0.5281(MAX:0.5398)  P-AUROC-1(MAX:-1) -----  PRO-AUROC-1(MAX:-1) -----\n"
     ]
    },
    {
     "name": "stderr",
     "output_type": "stream",
     "text": [
      "epoch:1 loss:1.0 lr:0.0001 p_true:0.0 p_fake:0.0: 100%|██████████| 2/2 [17:13<00:00, 516.78s/it]\n",
      "                                                               \r"
     ]
    },
    {
     "name": "stdout",
     "output_type": "stream",
     "text": [
      "----- 19 I-AUROC:0.529(MAX:0.5398)  P-AUROC-1(MAX:-1) -----  PRO-AUROC-1(MAX:-1) -----\n",
      "0.5398357756334276 -1 -1\n"
     ]
    }
   ],
   "source": [
    "i_auroc, p_auroc, pro_auroc = net.train(train_loader, val_loader)\n",
    "print(i_auroc, pro_auroc, pro_auroc)"
   ],
   "metadata": {
    "collapsed": false,
    "pycharm": {
     "name": "#%%\n"
    },
    "ExecuteTime": {
     "end_time": "2023-11-19T10:58:36.444572600Z",
     "start_time": "2023-11-19T06:58:47.817083300Z"
    }
   },
   "id": "9fc179d0ea8224b8"
  },
  {
   "cell_type": "code",
   "execution_count": 5,
   "outputs": [
    {
     "name": "stderr",
     "output_type": "stream",
     "text": [
      "                                                               \r"
     ]
    }
   ],
   "source": [
    "res = net.predict(val_loader)"
   ],
   "metadata": {
    "collapsed": false,
    "ExecuteTime": {
     "end_time": "2023-11-19T11:37:16.585327200Z",
     "start_time": "2023-11-19T11:36:28.251324500Z"
    }
   },
   "id": "48756c1abdbc9910"
  },
  {
   "cell_type": "code",
   "execution_count": 7,
   "outputs": [],
   "source": [
    "scores, masks, features, labels_gt, masks_gt = res"
   ],
   "metadata": {
    "collapsed": false,
    "ExecuteTime": {
     "end_time": "2023-11-19T11:37:51.487640200Z",
     "start_time": "2023-11-19T11:37:51.298597100Z"
    }
   },
   "id": "36b3201b5b238960"
  },
  {
   "cell_type": "code",
   "execution_count": 11,
   "outputs": [
    {
     "data": {
      "text/plain": "24.23278204689947"
     },
     "execution_count": 11,
     "metadata": {},
     "output_type": "execute_result"
    }
   ],
   "source": [
    "sum(scores)/len(scores)"
   ],
   "metadata": {
    "collapsed": false,
    "ExecuteTime": {
     "end_time": "2023-11-19T11:43:40.891762100Z",
     "start_time": "2023-11-19T11:43:40.668703400Z"
    }
   },
   "id": "273d265f4b053beb"
  }
 ],
 "metadata": {
  "kernelspec": {
   "display_name": "Python 3",
   "language": "python",
   "name": "python3"
  },
  "language_info": {
   "codemirror_mode": {
    "name": "ipython",
    "version": 2
   },
   "file_extension": ".py",
   "mimetype": "text/x-python",
   "name": "python",
   "nbconvert_exporter": "python",
   "pygments_lexer": "ipython2",
   "version": "2.7.6"
  }
 },
 "nbformat": 4,
 "nbformat_minor": 5
}
