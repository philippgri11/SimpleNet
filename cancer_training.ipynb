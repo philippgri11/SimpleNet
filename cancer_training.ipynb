{
 "cells": [
  {
   "cell_type": "code",
   "execution_count": null,
   "id": "initial_id",
   "metadata": {
    "collapsed": true
   },
   "outputs": [],
   "source": [
    "import torch\n",
    "import numpy as np\n",
    "import matplotlib.pyplot as plt\n",
    "from datasets.rsna_breast_cancer import BreastCancerDataset, DatasetSplit\n",
    "import backbones\n",
    "from simplenet import SimpleNet\n",
    "import utils\n",
    "from torch.utils.data import DataLoader\n",
    "import os"
   ]
  },
  {
   "cell_type": "code",
   "execution_count": null,
   "outputs": [],
   "source": [
    "img_dir = \"../../Documents/rsna_breast_cancer\"\n",
    "csv_file = \"train.csv\"\n",
    "\n",
    "ds = BreastCancerDataset(\n",
    "    img_dir=img_dir,\n",
    "    meta_data_csv_path=csv_file\n",
    ")\n",
    "\n",
    "val_ds = BreastCancerDataset(\n",
    "    img_dir=img_dir,\n",
    "    meta_data_csv_path=csv_file,\n",
    "    split=DatasetSplit.VAL\n",
    ")\n",
    "train_loader = DataLoader(ds, batch_size=2, shuffle=True)\n",
    "val_loader = DataLoader(val_ds, batch_size=2, shuffle=True)"
   ],
   "metadata": {
    "collapsed": false
   },
   "id": "fa3d6f9a2c82d3a6"
  },
  {
   "cell_type": "code",
   "execution_count": null,
   "outputs": [],
   "source": [
    "backbone = backbones.load('efficientnet_b1')\n",
    "\n",
    "device = 'cpu'\n",
    "\n",
    "net = SimpleNet(device)\n",
    "net.load(\n",
    "        backbone=backbone,\n",
    "        layers_to_extract_from=['conv_head'],\n",
    "        device=device,\n",
    "        input_shape=(3,224,224),\n",
    "        pretrain_embed_dimension=1024,\n",
    "        target_embed_dimension=1024,\n",
    "        patchsize=3,\n",
    "        embedding_size=1024,\n",
    "        meta_epochs=1,\n",
    "        aed_meta_epochs=1,\n",
    "        gan_epochs=1,\n",
    "        noise_std=0.05,\n",
    "        dsc_layers=2,\n",
    "        dsc_hidden=1024,\n",
    "        dsc_margin=0.5,\n",
    "        dsc_lr=0.0001,\n",
    "        auto_noise=0,\n",
    "        train_backbone=False,\n",
    "        cos_lr=False,\n",
    "        pre_proj=0,\n",
    "        proj_layer_type=0,\n",
    "        mix_noise=1,\n",
    "    )\n",
    "models_dir = \"models\"\n",
    "dataset_name = \"rsna_breast_cancer\"\n",
    "net.set_model_dir(models_dir, dataset_name)"
   ],
   "metadata": {
    "collapsed": false
   },
   "id": "762f001e8c1067d"
  },
  {
   "cell_type": "code",
   "execution_count": null,
   "outputs": [],
   "source": [
    "i_auroc, p_auroc, pro_auroc = net.train(train_loader, val_loader)\n",
    "print(i_auroc, pro_auroc, pro_auroc)"
   ],
   "metadata": {
    "collapsed": false
   },
   "id": "9fc179d0ea8224b8"
  },
  {
   "cell_type": "code",
   "execution_count": null,
   "outputs": [],
   "source": [],
   "metadata": {
    "collapsed": false
   },
   "id": "a30c51f70dde286f"
  }
 ],
 "metadata": {
  "kernelspec": {
   "display_name": "Python 3",
   "language": "python",
   "name": "python3"
  },
  "language_info": {
   "codemirror_mode": {
    "name": "ipython",
    "version": 2
   },
   "file_extension": ".py",
   "mimetype": "text/x-python",
   "name": "python",
   "nbconvert_exporter": "python",
   "pygments_lexer": "ipython2",
   "version": "2.7.6"
  }
 },
 "nbformat": 4,
 "nbformat_minor": 5
}
