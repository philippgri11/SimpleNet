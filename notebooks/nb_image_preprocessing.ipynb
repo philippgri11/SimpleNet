{
 "cells": [
  {
   "cell_type": "code",
   "outputs": [],
   "source": [
    "import pandas as pd\n",
    "from skimage.filters import threshold_otsu\n",
    "from scipy.ndimage import binary_fill_holes\n",
    "from skimage import io, color, measure, morphology\n",
    "import numpy as np\n",
    "import os\n",
    "from typing import List\n",
    "from matplotlib import pyplot as plt\n",
    "from tqdm import tqdm"
   ],
   "metadata": {
    "collapsed": false,
    "ExecuteTime": {
     "end_time": "2024-01-27T20:58:19.392501Z",
     "start_time": "2024-01-27T20:58:19.388160Z"
    }
   },
   "id": "3cb08d389ac52a60",
   "execution_count": 109
  },
  {
   "cell_type": "code",
   "outputs": [],
   "source": [
    "def get_padding(image, size) -> List[int]:\n",
    "    imsize = image.shape\n",
    "    h_padding = (size[0] - imsize[0]) / 2\n",
    "    v_padding = (size[1] - imsize[1]) / 2\n",
    "    l_pad = h_padding if h_padding % 1 == 0 else h_padding + 0.5\n",
    "    t_pad = v_padding if v_padding % 1 == 0 else v_padding + 0.5\n",
    "    r_pad = h_padding if h_padding % 1 == 0 else h_padding - 0.5\n",
    "    b_pad = v_padding if v_padding % 1 == 0 else v_padding - 0.5\n",
    "\n",
    "    padding = ((int(l_pad), int(r_pad)), (int(t_pad), int(b_pad)))\n",
    "\n",
    "    return padding"
   ],
   "metadata": {
    "collapsed": false,
    "ExecuteTime": {
     "end_time": "2024-01-27T20:58:19.402837Z",
     "start_time": "2024-01-27T20:58:19.398357Z"
    }
   },
   "id": "8c9ce2cd8ef97351",
   "execution_count": 110
  },
  {
   "cell_type": "code",
   "outputs": [],
   "source": [
    "def process_and_crop_image(image_path, output_folder, margin=10, pad_image_to_size=(256, 256)):\n",
    "    try:\n",
    "        image = io.imread(image_path, as_gray=True)\n",
    "\n",
    "        thresh = threshold_otsu(image)\n",
    "        binary = image > thresh\n",
    "        cleaned = morphology.remove_small_objects(binary, min_size=150)\n",
    "        filled_image = binary_fill_holes(cleaned)\n",
    "        label_img = measure.label(filled_image)\n",
    "        regions = measure.regionprops(label_img)\n",
    "\n",
    "        if not regions:\n",
    "            raise Exception(\"Could not find any regions\")\n",
    "\n",
    "        region_max = max(regions, key=lambda r: r.area)\n",
    "\n",
    "        minr, minc, maxr, maxc = region_max.bbox\n",
    "        width, height = image.shape\n",
    "        minr = max(0, minr - margin)\n",
    "        minc = max(0, minc - margin)\n",
    "        maxr = min(width, maxr)\n",
    "        maxc = min(height, maxc)\n",
    "\n",
    "        cropped_image = image[minr:maxr, minc:maxc]\n",
    "        cropped_image = np.pad(cropped_image, get_padding(cropped_image, pad_image_to_size), 'constant')\n",
    "\n",
    "        filename = os.path.basename(image_path)\n",
    "        cropped_image_path = os.path.join(output_folder, f\"{filename}\")\n",
    "        io.imsave(cropped_image_path, cropped_image.astype(np.uint8))\n",
    "    except Exception as e:\n",
    "        print(f\"Error processing {image_path}: {e}\")"
   ],
   "metadata": {
    "collapsed": true,
    "ExecuteTime": {
     "end_time": "2024-01-27T20:58:19.409445Z",
     "start_time": "2024-01-27T20:58:19.405521Z"
    }
   },
   "id": "initial_id",
   "execution_count": 111
  },
  {
   "cell_type": "code",
   "outputs": [],
   "source": [
    "output_folder = '../data/cropped/'\n",
    "input_folder = '../data/rsna_breast_cancer'\n",
    "\n",
    "processed_images_paths = []\n",
    "os.makedirs(output_folder, exist_ok=True)\n",
    "\n",
    "df = pd.read_csv('../train.csv')\n",
    "\n",
    "for idx, row in tqdm(df.iterrows()):\n",
    "    image_name = str(row['patient_id']) + \"_\" + str(row['image_id']) + \".png\"\n",
    "    image_path = os.path.join(input_folder, image_name)\n",
    "    process_and_crop_image(image_path, output_folder)"
   ],
   "metadata": {
    "collapsed": false
   },
   "id": "85d664d9b33b4523",
   "execution_count": null
  }
 ],
 "metadata": {
  "kernelspec": {
   "display_name": "Python 3",
   "language": "python",
   "name": "python3"
  },
  "language_info": {
   "codemirror_mode": {
    "name": "ipython",
    "version": 2
   },
   "file_extension": ".py",
   "mimetype": "text/x-python",
   "name": "python",
   "nbconvert_exporter": "python",
   "pygments_lexer": "ipython2",
   "version": "2.7.6"
  }
 },
 "nbformat": 4,
 "nbformat_minor": 5
}
